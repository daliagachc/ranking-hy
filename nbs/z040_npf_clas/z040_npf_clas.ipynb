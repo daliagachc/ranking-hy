{
 "cells": [
  {
   "cell_type": "code",
   "execution_count": 3,
   "metadata": {
    "collapsed": true,
    "ExecuteTime": {
     "start_time": "2023-05-17T22:03:09.521814Z",
     "end_time": "2023-05-17T22:03:11.989351Z"
    }
   },
   "outputs": [
    {
     "name": "stdout",
     "output_type": "stream",
     "text": [
      "The autoreload extension is already loaded. To reload it, use:\n",
      "  %reload_ext autoreload\n"
     ]
    }
   ],
   "source": [
    "#region imports\n",
    "from IPython import get_ipython\n",
    "\n",
    "# noinspection PyBroadException\n",
    "try:\n",
    "    _magic = get_ipython().run_line_magic\n",
    "    _magic(\"load_ext\", \"autoreload\")\n",
    "    _magic(\"autoreload\", \"2\")\n",
    "except:\n",
    "    pass\n",
    "\n",
    "# noinspection PyUnresolvedReferences\n",
    "import datetime as dt\n",
    "# noinspection PyUnresolvedReferences\n",
    "import glob\n",
    "# noinspection PyUnresolvedReferences\n",
    "import os\n",
    "# noinspection PyUnresolvedReferences\n",
    "import pprint\n",
    "# noinspection PyUnresolvedReferences\n",
    "import sys\n",
    "# noinspection PyUnresolvedReferences\n",
    "import cartopy as crt\n",
    "# noinspection PyUnresolvedReferences\n",
    "import matplotlib as mpl\n",
    "# noinspection PyUnresolvedReferences\n",
    "import matplotlib.colors\n",
    "# noinspection PyUnresolvedReferences\n",
    "import matplotlib.pyplot as plt\n",
    "# noinspection PyUnresolvedReferences\n",
    "import numpy as np\n",
    "# noinspection PyUnresolvedReferences\n",
    "import pandas as pd\n",
    "# noinspection PyUnresolvedReferences\n",
    "import seaborn as sns\n",
    "# noinspection PyUnresolvedReferences\n",
    "import xarray as xr\n",
    "# noinspection PyUnresolvedReferences\n",
    "#import bnn_tools.bnn_array\n",
    "\n",
    "import mod.funs as fu\n",
    "\n",
    "plt.style.use('default')\n",
    "xr.set_options(\n",
    "    display_expand_data = False,\n",
    "    display_expand_data_vars = True,\n",
    "    display_max_rows = 10,\n",
    "    display_style = 'html',\n",
    "    display_width = 80,\n",
    "    display_expand_attrs = False\n",
    ");\n",
    "#endregion"
   ]
  },
  {
   "cell_type": "code",
   "execution_count": 4,
   "outputs": [],
   "source": [
    "cols = [\n",
    "    'Matlab datenum',\n",
    "    'event Ia',\n",
    "    'event Ib',\n",
    "    'event II',\n",
    "    'event Apple',\n",
    "    'event Bump',\n",
    "    'event Rain',\n",
    "    'event Featureless',\n",
    "    'non event',\n",
    "    'undefined',\n",
    "    'bad data',\n",
    "    'partly bad data',\n",
    "    'checksum',\n",
    "]"
   ],
   "metadata": {
    "collapsed": false,
    "ExecuteTime": {
     "start_time": "2023-05-17T22:03:11.985463Z",
     "end_time": "2023-05-17T22:03:12.038555Z"
    }
   }
  },
  {
   "cell_type": "code",
   "execution_count": 61,
   "outputs": [],
   "source": [
    "p = '../../data/data_orig/DMPS_Event_Classification_1996-2022.txt'\n",
    "\n",
    "d = (\n",
    "    pd.read_csv(p,names = cols,comment='%', sep='\\s+')\n",
    "    .assign(day=lambda d:pd.to_datetime(d['Matlab datenum'] - 719529, unit='D').round('10T'))\n",
    "    .set_index('day')\n",
    "    ['2018-01-01':]\n",
    "    .drop('Matlab datenum',axis=1)\n",
    "    .drop('checksum',axis=1)\n",
    "    .drop('bad data',axis=1)\n",
    "    # [['event Ib','event II','bad data','non event', 'undefined']]\n",
    ")\n",
    "\n",
    "ds = d.sum()\n"
   ],
   "metadata": {
    "collapsed": false,
    "ExecuteTime": {
     "start_time": "2023-05-17T22:26:27.603774Z",
     "end_time": "2023-05-17T22:26:27.706740Z"
    }
   }
  },
  {
   "cell_type": "code",
   "execution_count": 62,
   "outputs": [
    {
     "data": {
      "text/plain": "<xarray.DataArray 'npf_class' (day: 1788)>\n'non event' 'undefined' 'non event' ... 'non event' 'non event' 'non event'\nCoordinates:\n  * day      (day) datetime64[ns] 2018-01-01 2018-01-02 ... 2022-12-31",
      "text/html": "<div><svg style=\"position: absolute; width: 0; height: 0; overflow: hidden\">\n<defs>\n<symbol id=\"icon-database\" viewBox=\"0 0 32 32\">\n<path d=\"M16 0c-8.837 0-16 2.239-16 5v4c0 2.761 7.163 5 16 5s16-2.239 16-5v-4c0-2.761-7.163-5-16-5z\"></path>\n<path d=\"M16 17c-8.837 0-16-2.239-16-5v6c0 2.761 7.163 5 16 5s16-2.239 16-5v-6c0 2.761-7.163 5-16 5z\"></path>\n<path d=\"M16 26c-8.837 0-16-2.239-16-5v6c0 2.761 7.163 5 16 5s16-2.239 16-5v-6c0 2.761-7.163 5-16 5z\"></path>\n</symbol>\n<symbol id=\"icon-file-text2\" viewBox=\"0 0 32 32\">\n<path d=\"M28.681 7.159c-0.694-0.947-1.662-2.053-2.724-3.116s-2.169-2.030-3.116-2.724c-1.612-1.182-2.393-1.319-2.841-1.319h-15.5c-1.378 0-2.5 1.121-2.5 2.5v27c0 1.378 1.122 2.5 2.5 2.5h23c1.378 0 2.5-1.122 2.5-2.5v-19.5c0-0.448-0.137-1.23-1.319-2.841zM24.543 5.457c0.959 0.959 1.712 1.825 2.268 2.543h-4.811v-4.811c0.718 0.556 1.584 1.309 2.543 2.268zM28 29.5c0 0.271-0.229 0.5-0.5 0.5h-23c-0.271 0-0.5-0.229-0.5-0.5v-27c0-0.271 0.229-0.5 0.5-0.5 0 0 15.499-0 15.5 0v7c0 0.552 0.448 1 1 1h7v19.5z\"></path>\n<path d=\"M23 26h-14c-0.552 0-1-0.448-1-1s0.448-1 1-1h14c0.552 0 1 0.448 1 1s-0.448 1-1 1z\"></path>\n<path d=\"M23 22h-14c-0.552 0-1-0.448-1-1s0.448-1 1-1h14c0.552 0 1 0.448 1 1s-0.448 1-1 1z\"></path>\n<path d=\"M23 18h-14c-0.552 0-1-0.448-1-1s0.448-1 1-1h14c0.552 0 1 0.448 1 1s-0.448 1-1 1z\"></path>\n</symbol>\n</defs>\n</svg>\n<style>/* CSS stylesheet for displaying xarray objects in jupyterlab.\n *\n */\n\n:root {\n  --xr-font-color0: var(--jp-content-font-color0, rgba(0, 0, 0, 1));\n  --xr-font-color2: var(--jp-content-font-color2, rgba(0, 0, 0, 0.54));\n  --xr-font-color3: var(--jp-content-font-color3, rgba(0, 0, 0, 0.38));\n  --xr-border-color: var(--jp-border-color2, #e0e0e0);\n  --xr-disabled-color: var(--jp-layout-color3, #bdbdbd);\n  --xr-background-color: var(--jp-layout-color0, white);\n  --xr-background-color-row-even: var(--jp-layout-color1, white);\n  --xr-background-color-row-odd: var(--jp-layout-color2, #eeeeee);\n}\n\nhtml[theme=dark],\nbody[data-theme=dark],\nbody.vscode-dark {\n  --xr-font-color0: rgba(255, 255, 255, 1);\n  --xr-font-color2: rgba(255, 255, 255, 0.54);\n  --xr-font-color3: rgba(255, 255, 255, 0.38);\n  --xr-border-color: #1F1F1F;\n  --xr-disabled-color: #515151;\n  --xr-background-color: #111111;\n  --xr-background-color-row-even: #111111;\n  --xr-background-color-row-odd: #313131;\n}\n\n.xr-wrap {\n  display: block !important;\n  min-width: 300px;\n  max-width: 700px;\n}\n\n.xr-text-repr-fallback {\n  /* fallback to plain text repr when CSS is not injected (untrusted notebook) */\n  display: none;\n}\n\n.xr-header {\n  padding-top: 6px;\n  padding-bottom: 6px;\n  margin-bottom: 4px;\n  border-bottom: solid 1px var(--xr-border-color);\n}\n\n.xr-header > div,\n.xr-header > ul {\n  display: inline;\n  margin-top: 0;\n  margin-bottom: 0;\n}\n\n.xr-obj-type,\n.xr-array-name {\n  margin-left: 2px;\n  margin-right: 10px;\n}\n\n.xr-obj-type {\n  color: var(--xr-font-color2);\n}\n\n.xr-sections {\n  padding-left: 0 !important;\n  display: grid;\n  grid-template-columns: 150px auto auto 1fr 20px 20px;\n}\n\n.xr-section-item {\n  display: contents;\n}\n\n.xr-section-item input {\n  display: none;\n}\n\n.xr-section-item input + label {\n  color: var(--xr-disabled-color);\n}\n\n.xr-section-item input:enabled + label {\n  cursor: pointer;\n  color: var(--xr-font-color2);\n}\n\n.xr-section-item input:enabled + label:hover {\n  color: var(--xr-font-color0);\n}\n\n.xr-section-summary {\n  grid-column: 1;\n  color: var(--xr-font-color2);\n  font-weight: 500;\n}\n\n.xr-section-summary > span {\n  display: inline-block;\n  padding-left: 0.5em;\n}\n\n.xr-section-summary-in:disabled + label {\n  color: var(--xr-font-color2);\n}\n\n.xr-section-summary-in + label:before {\n  display: inline-block;\n  content: '►';\n  font-size: 11px;\n  width: 15px;\n  text-align: center;\n}\n\n.xr-section-summary-in:disabled + label:before {\n  color: var(--xr-disabled-color);\n}\n\n.xr-section-summary-in:checked + label:before {\n  content: '▼';\n}\n\n.xr-section-summary-in:checked + label > span {\n  display: none;\n}\n\n.xr-section-summary,\n.xr-section-inline-details {\n  padding-top: 4px;\n  padding-bottom: 4px;\n}\n\n.xr-section-inline-details {\n  grid-column: 2 / -1;\n}\n\n.xr-section-details {\n  display: none;\n  grid-column: 1 / -1;\n  margin-bottom: 5px;\n}\n\n.xr-section-summary-in:checked ~ .xr-section-details {\n  display: contents;\n}\n\n.xr-array-wrap {\n  grid-column: 1 / -1;\n  display: grid;\n  grid-template-columns: 20px auto;\n}\n\n.xr-array-wrap > label {\n  grid-column: 1;\n  vertical-align: top;\n}\n\n.xr-preview {\n  color: var(--xr-font-color3);\n}\n\n.xr-array-preview,\n.xr-array-data {\n  padding: 0 5px !important;\n  grid-column: 2;\n}\n\n.xr-array-data,\n.xr-array-in:checked ~ .xr-array-preview {\n  display: none;\n}\n\n.xr-array-in:checked ~ .xr-array-data,\n.xr-array-preview {\n  display: inline-block;\n}\n\n.xr-dim-list {\n  display: inline-block !important;\n  list-style: none;\n  padding: 0 !important;\n  margin: 0;\n}\n\n.xr-dim-list li {\n  display: inline-block;\n  padding: 0;\n  margin: 0;\n}\n\n.xr-dim-list:before {\n  content: '(';\n}\n\n.xr-dim-list:after {\n  content: ')';\n}\n\n.xr-dim-list li:not(:last-child):after {\n  content: ',';\n  padding-right: 5px;\n}\n\n.xr-has-index {\n  font-weight: bold;\n}\n\n.xr-var-list,\n.xr-var-item {\n  display: contents;\n}\n\n.xr-var-item > div,\n.xr-var-item label,\n.xr-var-item > .xr-var-name span {\n  background-color: var(--xr-background-color-row-even);\n  margin-bottom: 0;\n}\n\n.xr-var-item > .xr-var-name:hover span {\n  padding-right: 5px;\n}\n\n.xr-var-list > li:nth-child(odd) > div,\n.xr-var-list > li:nth-child(odd) > label,\n.xr-var-list > li:nth-child(odd) > .xr-var-name span {\n  background-color: var(--xr-background-color-row-odd);\n}\n\n.xr-var-name {\n  grid-column: 1;\n}\n\n.xr-var-dims {\n  grid-column: 2;\n}\n\n.xr-var-dtype {\n  grid-column: 3;\n  text-align: right;\n  color: var(--xr-font-color2);\n}\n\n.xr-var-preview {\n  grid-column: 4;\n}\n\n.xr-index-preview {\n  grid-column: 2 / 5;\n  color: var(--xr-font-color2);\n}\n\n.xr-var-name,\n.xr-var-dims,\n.xr-var-dtype,\n.xr-preview,\n.xr-attrs dt {\n  white-space: nowrap;\n  overflow: hidden;\n  text-overflow: ellipsis;\n  padding-right: 10px;\n}\n\n.xr-var-name:hover,\n.xr-var-dims:hover,\n.xr-var-dtype:hover,\n.xr-attrs dt:hover {\n  overflow: visible;\n  width: auto;\n  z-index: 1;\n}\n\n.xr-var-attrs,\n.xr-var-data,\n.xr-index-data {\n  display: none;\n  background-color: var(--xr-background-color) !important;\n  padding-bottom: 5px !important;\n}\n\n.xr-var-attrs-in:checked ~ .xr-var-attrs,\n.xr-var-data-in:checked ~ .xr-var-data,\n.xr-index-data-in:checked ~ .xr-index-data {\n  display: block;\n}\n\n.xr-var-data > table {\n  float: right;\n}\n\n.xr-var-name span,\n.xr-var-data,\n.xr-index-name div,\n.xr-index-data,\n.xr-attrs {\n  padding-left: 25px !important;\n}\n\n.xr-attrs,\n.xr-var-attrs,\n.xr-var-data,\n.xr-index-data {\n  grid-column: 1 / -1;\n}\n\ndl.xr-attrs {\n  padding: 0;\n  margin: 0;\n  display: grid;\n  grid-template-columns: 125px auto;\n}\n\n.xr-attrs dt,\n.xr-attrs dd {\n  padding: 0;\n  margin: 0;\n  float: left;\n  padding-right: 10px;\n  width: auto;\n}\n\n.xr-attrs dt {\n  font-weight: normal;\n  grid-column: 1;\n}\n\n.xr-attrs dt:hover span {\n  display: inline-block;\n  background: var(--xr-background-color);\n  padding-right: 10px;\n}\n\n.xr-attrs dd {\n  grid-column: 2;\n  white-space: pre-wrap;\n  word-break: break-all;\n}\n\n.xr-icon-database,\n.xr-icon-file-text2,\n.xr-no-icon {\n  display: inline-block;\n  vertical-align: middle;\n  width: 1em;\n  height: 1.5em !important;\n  stroke-width: 0;\n  stroke: currentColor;\n  fill: currentColor;\n}\n</style><pre class='xr-text-repr-fallback'>&lt;xarray.DataArray &#x27;npf_class&#x27; (day: 1788)&gt;\n&#x27;non event&#x27; &#x27;undefined&#x27; &#x27;non event&#x27; ... &#x27;non event&#x27; &#x27;non event&#x27; &#x27;non event&#x27;\nCoordinates:\n  * day      (day) datetime64[ns] 2018-01-01 2018-01-02 ... 2022-12-31</pre><div class='xr-wrap' style='display:none'><div class='xr-header'><div class='xr-obj-type'>xarray.DataArray</div><div class='xr-array-name'>'npf_class'</div><ul class='xr-dim-list'><li><span class='xr-has-index'>day</span>: 1788</li></ul></div><ul class='xr-sections'><li class='xr-section-item'><div class='xr-array-wrap'><input id='section-dc44d9dc-247f-4c01-be3f-4265c471d690' class='xr-array-in' type='checkbox' ><label for='section-dc44d9dc-247f-4c01-be3f-4265c471d690' title='Show/hide data repr'><svg class='icon xr-icon-database'><use xlink:href='#icon-database'></use></svg></label><div class='xr-array-preview xr-preview'><span>&#x27;non event&#x27; &#x27;undefined&#x27; &#x27;non event&#x27; ... &#x27;non event&#x27; &#x27;non event&#x27;</span></div><div class='xr-array-data'><pre>array([&#x27;non event&#x27;, &#x27;undefined&#x27;, &#x27;non event&#x27;, ..., &#x27;non event&#x27;,\n       &#x27;non event&#x27;, &#x27;non event&#x27;], dtype=object)</pre></div></div></li><li class='xr-section-item'><input id='section-eab86418-18f1-4c1c-9dc1-1103b4966c2d' class='xr-section-summary-in' type='checkbox'  checked><label for='section-eab86418-18f1-4c1c-9dc1-1103b4966c2d' class='xr-section-summary' >Coordinates: <span>(1)</span></label><div class='xr-section-inline-details'></div><div class='xr-section-details'><ul class='xr-var-list'><li class='xr-var-item'><div class='xr-var-name'><span class='xr-has-index'>day</span></div><div class='xr-var-dims'>(day)</div><div class='xr-var-dtype'>datetime64[ns]</div><div class='xr-var-preview xr-preview'>2018-01-01 ... 2022-12-31</div><input id='attrs-64ddfd86-19c1-4763-b3ad-309efa7736a8' class='xr-var-attrs-in' type='checkbox' disabled><label for='attrs-64ddfd86-19c1-4763-b3ad-309efa7736a8' title='Show/Hide attributes'><svg class='icon xr-icon-file-text2'><use xlink:href='#icon-file-text2'></use></svg></label><input id='data-24ab2863-b12d-4db2-ad99-08a6ea5ba148' class='xr-var-data-in' type='checkbox'><label for='data-24ab2863-b12d-4db2-ad99-08a6ea5ba148' title='Show/Hide data repr'><svg class='icon xr-icon-database'><use xlink:href='#icon-database'></use></svg></label><div class='xr-var-attrs'><dl class='xr-attrs'></dl></div><div class='xr-var-data'><pre>array([&#x27;2018-01-01T00:00:00.000000000&#x27;, &#x27;2018-01-02T00:00:00.000000000&#x27;,\n       &#x27;2018-01-03T00:00:00.000000000&#x27;, ..., &#x27;2022-12-29T00:00:00.000000000&#x27;,\n       &#x27;2022-12-30T00:00:00.000000000&#x27;, &#x27;2022-12-31T00:00:00.000000000&#x27;],\n      dtype=&#x27;datetime64[ns]&#x27;)</pre></div></li></ul></div></li><li class='xr-section-item'><input id='section-fa314d43-0cef-487b-b528-6db518398a8c' class='xr-section-summary-in' type='checkbox'  ><label for='section-fa314d43-0cef-487b-b528-6db518398a8c' class='xr-section-summary' >Indexes: <span>(1)</span></label><div class='xr-section-inline-details'></div><div class='xr-section-details'><ul class='xr-var-list'><li class='xr-var-item'><div class='xr-index-name'><div>day</div></div><div class='xr-index-preview'>PandasIndex</div><div></div><input id='index-4fd3a321-27e8-45b1-9354-b8b7df635c5a' class='xr-index-data-in' type='checkbox'/><label for='index-4fd3a321-27e8-45b1-9354-b8b7df635c5a' title='Show/Hide index repr'><svg class='icon xr-icon-database'><use xlink:href='#icon-database'></use></svg></label><div class='xr-index-data'><pre>PandasIndex(DatetimeIndex([&#x27;2018-01-01&#x27;, &#x27;2018-01-02&#x27;, &#x27;2018-01-03&#x27;, &#x27;2018-01-04&#x27;,\n               &#x27;2018-01-05&#x27;, &#x27;2018-01-06&#x27;, &#x27;2018-01-07&#x27;, &#x27;2018-01-08&#x27;,\n               &#x27;2018-01-09&#x27;, &#x27;2018-01-10&#x27;,\n               ...\n               &#x27;2022-12-13&#x27;, &#x27;2022-12-23&#x27;, &#x27;2022-12-24&#x27;, &#x27;2022-12-25&#x27;,\n               &#x27;2022-12-26&#x27;, &#x27;2022-12-27&#x27;, &#x27;2022-12-28&#x27;, &#x27;2022-12-29&#x27;,\n               &#x27;2022-12-30&#x27;, &#x27;2022-12-31&#x27;],\n              dtype=&#x27;datetime64[ns]&#x27;, name=&#x27;day&#x27;, length=1788, freq=None))</pre></div></li></ul></div></li><li class='xr-section-item'><input id='section-f8407ae7-b78b-4656-a632-2cf2af9e3e90' class='xr-section-summary-in' type='checkbox' disabled ><label for='section-f8407ae7-b78b-4656-a632-2cf2af9e3e90' class='xr-section-summary'  title='Expand/collapse section'>Attributes: <span>(0)</span></label><div class='xr-section-inline-details'></div><div class='xr-section-details'><dl class='xr-attrs'></dl></div></li></ul></div></div>"
     },
     "execution_count": 62,
     "metadata": {},
     "output_type": "execute_result"
    }
   ],
   "source": [
    "d1=(\n",
    "    d.stack()\n",
    "    .where(lambda d:d>0)\n",
    "    .dropna()\n",
    "    .reset_index()\n",
    "    .drop_duplicates('day')\n",
    "    .set_index('day')\n",
    "    .rename({'level_1':'npf_class'},axis=1)\n",
    "    ['npf_class']\n",
    "    .to_xarray()\n",
    ")\n",
    "\n",
    "d1"
   ],
   "metadata": {
    "collapsed": false,
    "ExecuteTime": {
     "start_time": "2023-05-17T22:26:28.290416Z",
     "end_time": "2023-05-17T22:26:28.366921Z"
    }
   }
  },
  {
   "cell_type": "code",
   "execution_count": 63,
   "outputs": [
    {
     "data": {
      "text/plain": "Empty DataFrame\nColumns: [npf_class]\nIndex: []",
      "text/html": "<div>\n<style scoped>\n    .dataframe tbody tr th:only-of-type {\n        vertical-align: middle;\n    }\n\n    .dataframe tbody tr th {\n        vertical-align: top;\n    }\n\n    .dataframe thead th {\n        text-align: right;\n    }\n</style>\n<table border=\"1\" class=\"dataframe\">\n  <thead>\n    <tr style=\"text-align: right;\">\n      <th></th>\n      <th>npf_class</th>\n    </tr>\n    <tr>\n      <th>day</th>\n      <th></th>\n    </tr>\n  </thead>\n  <tbody>\n  </tbody>\n</table>\n</div>"
     },
     "execution_count": 63,
     "metadata": {},
     "output_type": "execute_result"
    }
   ],
   "source": [
    "d1.to_dataframe()[d1['day'].to_series().duplicated()]"
   ],
   "metadata": {
    "collapsed": false,
    "ExecuteTime": {
     "start_time": "2023-05-17T22:26:29.434745Z",
     "end_time": "2023-05-17T22:26:29.511025Z"
    }
   }
  },
  {
   "cell_type": "code",
   "execution_count": 64,
   "outputs": [],
   "source": [
    "N = '$N_{2.5-5\\mathrm{nm}}$'\n",
    "d5 = (\n",
    "    xr.open_dataset('../../data/d1/ds_5.nc')\n",
    "    .rename({'N':N})\n",
    "    .pipe(lambda d: xr.merge([d,d1]))\n",
    "    .squeeze()\n",
    ")"
   ],
   "metadata": {
    "collapsed": false,
    "ExecuteTime": {
     "start_time": "2023-05-17T22:26:29.809075Z",
     "end_time": "2023-05-17T22:26:29.891438Z"
    }
   }
  },
  {
   "cell_type": "code",
   "execution_count": 103,
   "outputs": [],
   "source": [
    "res = (\n",
    "    d5\n",
    "    [['q','npf_class']]\n",
    "    # .assign({'qCut':lambda d:d['qCut'].str.replace('\\.0','')})\n",
    "    .to_dataframe()\n",
    "    # .where(lambda d:d['qCut']!='nan')\n",
    "    .dropna(how='all')\n",
    "    .rename({'npf_class':'Classification'},axis=1)\n",
    "    .rename({'q':'Percentile ranking'},axis=1)\n",
    "    # .sort_values('qCut')\n",
    "\n",
    ")"
   ],
   "metadata": {
    "collapsed": false,
    "ExecuteTime": {
     "start_time": "2023-05-17T22:37:43.441555Z",
     "end_time": "2023-05-17T22:37:43.513919Z"
    }
   }
  },
  {
   "cell_type": "code",
   "execution_count": 104,
   "outputs": [
    {
     "data": {
      "text/plain": "            Percentile ranking Classification  n_day  n_night   g  \\\nday                                                                 \n2018-01-01            0.566394      non event     47       24  g1   \n2018-01-02           70.673379      undefined     47       31  g1   \n2018-01-03           16.488357      non event     47       31  g1   \n2018-01-04            2.580239      undefined     47       31  g1   \n2018-01-05           53.429830      non event     47       31  g1   \n...                        ...            ...    ...      ...  ..   \n2022-12-27                 NaN      non event      0        0       \n2022-12-28                 NaN      undefined      0        0       \n2022-12-29                 NaN      non event      0        0       \n2022-12-30                 NaN      non event      0        0       \n2022-12-31                 NaN      non event      0        0       \n\n                    qCut  \nday                       \n2018-01-01    (0.0, 5.0]  \n2018-01-02  (70.0, 75.0]  \n2018-01-03  (15.0, 20.0]  \n2018-01-04    (0.0, 5.0]  \n2018-01-05  (50.0, 55.0]  \n...                  ...  \n2022-12-27           nan  \n2022-12-28           nan  \n2022-12-29           nan  \n2022-12-30           nan  \n2022-12-31           nan  \n\n[1826 rows x 6 columns]",
      "text/html": "<div>\n<style scoped>\n    .dataframe tbody tr th:only-of-type {\n        vertical-align: middle;\n    }\n\n    .dataframe tbody tr th {\n        vertical-align: top;\n    }\n\n    .dataframe thead th {\n        text-align: right;\n    }\n</style>\n<table border=\"1\" class=\"dataframe\">\n  <thead>\n    <tr style=\"text-align: right;\">\n      <th></th>\n      <th>Percentile ranking</th>\n      <th>Classification</th>\n      <th>n_day</th>\n      <th>n_night</th>\n      <th>g</th>\n      <th>qCut</th>\n    </tr>\n    <tr>\n      <th>day</th>\n      <th></th>\n      <th></th>\n      <th></th>\n      <th></th>\n      <th></th>\n      <th></th>\n    </tr>\n  </thead>\n  <tbody>\n    <tr>\n      <th>2018-01-01</th>\n      <td>0.566394</td>\n      <td>non event</td>\n      <td>47</td>\n      <td>24</td>\n      <td>g1</td>\n      <td>(0.0, 5.0]</td>\n    </tr>\n    <tr>\n      <th>2018-01-02</th>\n      <td>70.673379</td>\n      <td>undefined</td>\n      <td>47</td>\n      <td>31</td>\n      <td>g1</td>\n      <td>(70.0, 75.0]</td>\n    </tr>\n    <tr>\n      <th>2018-01-03</th>\n      <td>16.488357</td>\n      <td>non event</td>\n      <td>47</td>\n      <td>31</td>\n      <td>g1</td>\n      <td>(15.0, 20.0]</td>\n    </tr>\n    <tr>\n      <th>2018-01-04</th>\n      <td>2.580239</td>\n      <td>undefined</td>\n      <td>47</td>\n      <td>31</td>\n      <td>g1</td>\n      <td>(0.0, 5.0]</td>\n    </tr>\n    <tr>\n      <th>2018-01-05</th>\n      <td>53.429830</td>\n      <td>non event</td>\n      <td>47</td>\n      <td>31</td>\n      <td>g1</td>\n      <td>(50.0, 55.0]</td>\n    </tr>\n    <tr>\n      <th>...</th>\n      <td>...</td>\n      <td>...</td>\n      <td>...</td>\n      <td>...</td>\n      <td>...</td>\n      <td>...</td>\n    </tr>\n    <tr>\n      <th>2022-12-27</th>\n      <td>NaN</td>\n      <td>non event</td>\n      <td>0</td>\n      <td>0</td>\n      <td></td>\n      <td>nan</td>\n    </tr>\n    <tr>\n      <th>2022-12-28</th>\n      <td>NaN</td>\n      <td>undefined</td>\n      <td>0</td>\n      <td>0</td>\n      <td></td>\n      <td>nan</td>\n    </tr>\n    <tr>\n      <th>2022-12-29</th>\n      <td>NaN</td>\n      <td>non event</td>\n      <td>0</td>\n      <td>0</td>\n      <td></td>\n      <td>nan</td>\n    </tr>\n    <tr>\n      <th>2022-12-30</th>\n      <td>NaN</td>\n      <td>non event</td>\n      <td>0</td>\n      <td>0</td>\n      <td></td>\n      <td>nan</td>\n    </tr>\n    <tr>\n      <th>2022-12-31</th>\n      <td>NaN</td>\n      <td>non event</td>\n      <td>0</td>\n      <td>0</td>\n      <td></td>\n      <td>nan</td>\n    </tr>\n  </tbody>\n</table>\n<p>1826 rows × 6 columns</p>\n</div>"
     },
     "execution_count": 104,
     "metadata": {},
     "output_type": "execute_result"
    }
   ],
   "source": [
    "res"
   ],
   "metadata": {
    "collapsed": false,
    "ExecuteTime": {
     "start_time": "2023-05-17T22:37:44.071117Z",
     "end_time": "2023-05-17T22:37:44.126281Z"
    }
   }
  },
  {
   "cell_type": "code",
   "execution_count": 105,
   "outputs": [],
   "source": [
    "ord_ = np.unique(res['qCut'])"
   ],
   "metadata": {
    "collapsed": false,
    "ExecuteTime": {
     "start_time": "2023-05-17T22:37:44.983481Z",
     "end_time": "2023-05-17T22:37:45.034571Z"
    }
   }
  },
  {
   "cell_type": "code",
   "execution_count": 118,
   "outputs": [
    {
     "data": {
      "text/plain": "0"
     },
     "execution_count": 118,
     "metadata": {},
     "output_type": "execute_result"
    },
    {
     "data": {
      "text/plain": "<Figure size 700x312.5 with 1 Axes>",
      "image/png": "[encoded data removed]"
     },
     "metadata": {},
     "output_type": "display_data"
    }
   ],
   "source": [
    "#region sciplot\n",
    "# noinspection PyUnresolvedReferences\n",
    "import scienceplots\n",
    "plt.style.use([\n",
    "    'default',\n",
    "    'acp',\n",
    "    #'notebook',\n",
    "    # 'sp-grid',\n",
    "    'no-black',\n",
    "    'illustrator-safe'\n",
    "])\n",
    "#endregion sciplot\n",
    "sns.histplot(\n",
    "    data = res,\n",
    "    x = 'Percentile ranking',\n",
    "    hue = 'Classification',\n",
    "    multiple='stack',\n",
    "    bins = np.arange(0,101,5),\n",
    "    # palette='tab10',\n",
    "    # palette='Set2',\n",
    "    palette='RdYlBu_r',\n",
    "    hue_order = pd.Series(['event Ia','event Ib', 'event II', 'undefined','non event'])[::-1],\n",
    "    # order = ord_\n",
    "    alpha = 1\n",
    ")\n",
    "\n",
    "ax:plt.Axes = plt.gca()\n",
    "ax.set_xlim(0,100)\n",
    "ax.set_box_aspect(1/1.6)\n",
    "sns.move_legend(ax,'upper left', bbox_to_anchor=(1.1, 1.3))\n",
    "\n",
    "ax.set_xlabel('Percentile ranking ($\\Delta N_{2.5-5\\mathrm{nm}}$)')\n",
    "\n",
    "f:plt.Figure = plt.gcf()\n",
    "\n",
    "a_ = 2.5\n",
    "f.set_size_inches(a_+1,a_/1.6)\n",
    "import uscit\n",
    "uscit.set_margin(f,x1=.5,x2=1.4,y1=.5)\n",
    "# uscit.set_fig_rule(f)\n",
    "#region temp open fig\n",
    "_p_ = 'f040.pdf';plt.gcf().savefig(_p_,transparent=True);\n",
    "os.system(f'open {_p_}')\n",
    "#endregion temp open fig\n"
   ],
   "metadata": {
    "collapsed": false,
    "ExecuteTime": {
     "start_time": "2023-05-18T00:17:57.743886Z",
     "end_time": "2023-05-18T00:17:59.153519Z"
    }
   }
  },
  {
   "cell_type": "code",
   "execution_count": null,
   "outputs": [],
   "source": [],
   "metadata": {
    "collapsed": false
   }
  }
 ],
 "metadata": {
  "kernelspec": {
   "display_name": "Python 3",
   "language": "python",
   "name": "python3"
  },
  "language_info": {
   "codemirror_mode": {
    "name": "ipython",
    "version": 2
   },
   "file_extension": ".py",
   "mimetype": "text/x-python",
   "name": "python",
   "nbconvert_exporter": "python",
   "pygments_lexer": "ipython2",
   "version": "2.7.6"
  }
 },
 "nbformat": 4,
 "nbformat_minor": 0
}
